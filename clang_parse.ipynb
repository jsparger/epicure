{
 "cells": [
  {
   "cell_type": "code",
   "execution_count": 3,
   "metadata": {},
   "outputs": [],
   "source": [
    "import clang.cindex"
   ]
  },
  {
   "cell_type": "code",
   "execution_count": 36,
   "metadata": {},
   "outputs": [],
   "source": [
    "\n",
    "def find_typerefs(node, typename, prefix=\"\"):\n",
    "    print \"{}{}  {} {}: type={} \\t{} {}\".format(prefix, node.location.line, node.spelling, node.kind, node.type.kind, node.spelling, node.displayname) \n",
    "    definition = clang.cindex.conf.lib.clang_getCursorDefinition(node);\n",
    "    if definition:\n",
    "        print \"DEFINITION\", definition.location.line, definition.kind, definition.spelling\n",
    "        print \"ARGS\", clang.cindex.conf.lib.clang_Cursor_getTemplateArgumentType(node,0).spelling\n",
    "        #     for x in node.get_children():\n",
    "#         print x\n",
    "    # Recurse for children of this node\n",
    "    for c in node.get_children():\n",
    "        find_typerefs(c, typename, (prefix + \"->\"))"
   ]
  },
  {
   "cell_type": "code",
   "execution_count": 34,
   "metadata": {},
   "outputs": [],
   "source": [
    "code = \"\"\"\n",
    "\n",
    "/*\n",
    "namespace epicure {\n",
    "\n",
    "template <class T>\n",
    "class RPC {T t;};\n",
    "\n",
    "template <class T, typename ...Args>\n",
    "auto publish(Args && ...args) {\n",
    "    return RPC<T>();\n",
    "}\n",
    "}\n",
    "*/\n",
    "\n",
    "template <class T> \n",
    "int foo()\n",
    "{\n",
    "    return 10;\n",
    "}\n",
    "\n",
    "class Dog {\n",
    "\n",
    "};\n",
    "\n",
    "int main()\n",
    "{\n",
    "    //int cow;\n",
    "  //  epicure::RPC<Dog> x = epicure::publish<Dog>();\n",
    "    int bar = foo<Dog>();\n",
    "    //int man;\n",
    "}\n",
    "\"\"\"\n",
    "\n",
    "with open(\"code.cpp\", \"w\") as text_file:\n",
    "    text_file.write(code)"
   ]
  },
  {
   "cell_type": "code",
   "execution_count": 37,
   "metadata": {},
   "outputs": [
    {
     "name": "stdout",
     "output_type": "stream",
     "text": [
      "0  code.cpp CursorKind.TRANSLATION_UNIT: type=TypeKind.INVALID \tcode.cpp code.cpp\n",
      "->17  foo CursorKind.FUNCTION_TEMPLATE: type=TypeKind.FUNCTIONPROTO \tfoo foo()\n",
      "DEFINITION 17 CursorKind.FUNCTION_TEMPLATE foo\n",
      "ARGS \n",
      "->->16  T CursorKind.TEMPLATE_TYPE_PARAMETER: type=TypeKind.UNEXPOSED \tT T\n",
      "DEFINITION 16 CursorKind.TEMPLATE_TYPE_PARAMETER T\n",
      "ARGS \n",
      "->->18   CursorKind.COMPOUND_STMT: type=TypeKind.INVALID \t \n",
      "->->->19   CursorKind.RETURN_STMT: type=TypeKind.INVALID \t \n",
      "->->->->19   CursorKind.INTEGER_LITERAL: type=TypeKind.INT \t \n",
      "->22  Dog CursorKind.CLASS_DECL: type=TypeKind.RECORD \tDog Dog\n",
      "DEFINITION 22 CursorKind.CLASS_DECL Dog\n",
      "ARGS \n",
      "->26  main CursorKind.FUNCTION_DECL: type=TypeKind.FUNCTIONPROTO \tmain main()\n",
      "DEFINITION 26 CursorKind.FUNCTION_DECL main\n",
      "ARGS \n",
      "->->27   CursorKind.COMPOUND_STMT: type=TypeKind.INVALID \t \n",
      "->->->30   CursorKind.DECL_STMT: type=TypeKind.INVALID \t \n",
      "->->->->30  bar CursorKind.VAR_DECL: type=TypeKind.INT \tbar bar\n",
      "DEFINITION 30 CursorKind.VAR_DECL bar\n",
      "ARGS \n",
      "->->->->->30  foo CursorKind.CALL_EXPR: type=TypeKind.INT \tfoo foo\n",
      "DEFINITION 17 CursorKind.FUNCTION_DECL foo\n",
      "ARGS \n",
      "->->->->->->30  foo CursorKind.UNEXPOSED_EXPR: type=TypeKind.POINTER \tfoo foo\n",
      "DEFINITION 17 CursorKind.FUNCTION_DECL foo\n",
      "ARGS \n",
      "->->->->->->->30  foo CursorKind.DECL_REF_EXPR: type=TypeKind.FUNCTIONPROTO \tfoo foo\n",
      "DEFINITION 17 CursorKind.FUNCTION_DECL foo\n",
      "ARGS \n",
      "->->->->->->->->30  class Dog CursorKind.TYPE_REF: type=TypeKind.RECORD \tclass Dog class Dog\n",
      "DEFINITION 22 CursorKind.CLASS_DECL Dog\n",
      "ARGS \n"
     ]
    }
   ],
   "source": [
    "index = clang.cindex.Index.create()\n",
    "tu = index.parse(\"code.cpp\")\n",
    "find_typerefs(tu.cursor, \"Dog\")"
   ]
  },
  {
   "cell_type": "code",
   "execution_count": null,
   "metadata": {},
   "outputs": [],
   "source": []
  },
  {
   "cell_type": "code",
   "execution_count": null,
   "metadata": {},
   "outputs": [],
   "source": []
  },
  {
   "cell_type": "code",
   "execution_count": 87,
   "metadata": {},
   "outputs": [],
   "source": [
    "x = tu.cursor.type.get_named_type().spelling"
   ]
  },
  {
   "cell_type": "code",
   "execution_count": 72,
   "metadata": {},
   "outputs": [
    {
     "data": {
      "text/plain": [
       "''"
      ]
     },
     "execution_count": 72,
     "metadata": {},
     "output_type": "execute_result"
    }
   ],
   "source": [
    "clang.cindex.conf.lib."
   ]
  },
  {
   "cell_type": "code",
   "execution_count": 1,
   "metadata": {},
   "outputs": [],
   "source": [
    "import clang.cindex\n",
    "from clang.cindex import *\n",
    "import cymbal\n",
    "from ctypes import *\n",
    "\n",
    "cymbal.monkeypatch_type('get_template_argument_type',\n",
    "                        'clang_Type_getTemplateArgumentAsType',\n",
    "                        [Type, c_uint],\n",
    "                        Type)\n",
    "\n",
    "cymbal.monkeypatch_type('get_num_template_arguments',\n",
    "                        'clang_Type_getNumTemplateArguments',\n",
    "                        [Type],\n",
    "                        c_int)\n",
    "\n",
    "# check if the cursor's type is a template\n",
    "def is_template(node):\n",
    "    return hasattr(node, 'type') and node.type.get_num_template_arguments() != -1\n",
    "\n"
   ]
  },
  {
   "cell_type": "code",
   "execution_count": 2,
   "metadata": {},
   "outputs": [],
   "source": [
    "source = \"\"\"\n",
    "//#include <string>\n",
    "//#include <iostream>\n",
    "\n",
    "template <typename T> class X {};\n",
    "X<bool> x;\n",
    "\n",
    "template <class T>\n",
    "int foo(int y) {return 10;}\n",
    "\n",
    "template <class A, class B>\n",
    "int baz(int y) {return 10;}\n",
    "\n",
    "template <class T>\n",
    "void publish() {;}\n",
    "\n",
    "class Dog {\n",
    "public:\n",
    "    int bark(double volume, const int& language);\n",
    "    void run(float speed) const {  }\n",
    "};\n",
    "class Cat {};\n",
    "\n",
    "int main() {\n",
    "    int x = foo<Dog>(7);\n",
    "    int y = baz<Dog,Cat>(7);\n",
    "    publish<Cat>();\n",
    "    publish<Dog>();\n",
    "    \n",
    "}\n",
    "\"\"\""
   ]
  },
  {
   "cell_type": "code",
   "execution_count": 10,
   "metadata": {},
   "outputs": [
    {
     "name": "stdout",
     "output_type": "stream",
     "text": [
      "A 0 usr:  t.cpp t.cpp CursorKind.TRANSLATION_UNIT TypeKind.INVALID  -1\n",
      "B \n",
      "D None None No definition No usr\n",
      "A 5 usr: c:@ST>1#T@X X<T> X CursorKind.CLASS_TEMPLATE TypeKind.INVALID  -1\n",
      "B \n",
      "D t.cpp t.cpp 5 c:@ST>1#T@X\n",
      "A 5 usr: c:t.cpp@54 T T CursorKind.TEMPLATE_TYPE_PARAMETER TypeKind.UNEXPOSED T -1\n",
      "B \n",
      "D X<T> X<T> 5 c:t.cpp@54\n",
      "A 6 usr: c:@x x x CursorKind.VAR_DECL TypeKind.UNEXPOSED X<bool> 1\n",
      "B bool\n",
      "D t.cpp t.cpp 6 c:@x\n",
      "A 6 usr:  X X CursorKind.TEMPLATE_REF TypeKind.INVALID  -1\n",
      "B \n",
      "D None None 5 c:@ST>1#T@X\n",
      "A 6 usr:  X X CursorKind.CALL_EXPR TypeKind.UNEXPOSED X<bool> 1\n",
      "B bool\n",
      "D x None 5 c:@S@X>#b@F@X#\n",
      "A 9 usr: c:@FT@>1#Tfoo#I#I# foo(int) foo CursorKind.FUNCTION_TEMPLATE TypeKind.FUNCTIONPROTO int (int) -1\n",
      "B \n",
      "D t.cpp t.cpp 9 c:@FT@>1#Tfoo#I#I#\n",
      "A 8 usr: c:t.cpp@100 T T CursorKind.TEMPLATE_TYPE_PARAMETER TypeKind.UNEXPOSED T -1\n",
      "B \n",
      "D foo(int) foo(int) 8 c:t.cpp@100\n",
      "A 9 usr: c:t.cpp@117@FT@>1#Tfoo#I#I#@y y y CursorKind.PARM_DECL TypeKind.INT int -1\n",
      "B \n",
      "D foo(int) foo(int) 9 c:t.cpp@117@FT@>1#Tfoo#I#I#@y\n",
      "A 9 usr:    CursorKind.COMPOUND_STMT TypeKind.INVALID  -1\n",
      "B \n",
      "D foo(int) None No definition No usr\n",
      "A 9 usr:    CursorKind.RETURN_STMT TypeKind.INVALID  -1\n",
      "B \n",
      "D None None No definition No usr\n",
      "A 9 usr:    CursorKind.INTEGER_LITERAL TypeKind.INT int -1\n",
      "B \n",
      "D None None No definition No usr\n",
      "A 12 usr: c:@FT@>2#T#Tbaz#I#I# baz(int) baz CursorKind.FUNCTION_TEMPLATE TypeKind.FUNCTIONPROTO int (int) -1\n",
      "B \n",
      "D t.cpp t.cpp 12 c:@FT@>2#T#Tbaz#I#I#\n",
      "A 11 usr: c:t.cpp@148 A A CursorKind.TEMPLATE_TYPE_PARAMETER TypeKind.UNEXPOSED A -1\n",
      "B \n",
      "D baz(int) baz(int) 11 c:t.cpp@148\n",
      "A 11 usr: c:t.cpp@157 B B CursorKind.TEMPLATE_TYPE_PARAMETER TypeKind.UNEXPOSED B -1\n",
      "B \n",
      "D baz(int) baz(int) 11 c:t.cpp@157\n",
      "A 12 usr: c:t.cpp@174@FT@>2#T#Tbaz#I#I#@y y y CursorKind.PARM_DECL TypeKind.INT int -1\n",
      "B \n",
      "D baz(int) baz(int) 12 c:t.cpp@174@FT@>2#T#Tbaz#I#I#@y\n",
      "A 12 usr:    CursorKind.COMPOUND_STMT TypeKind.INVALID  -1\n",
      "B \n",
      "D baz(int) None No definition No usr\n",
      "A 12 usr:    CursorKind.RETURN_STMT TypeKind.INVALID  -1\n",
      "B \n",
      "D None None No definition No usr\n",
      "A 12 usr:    CursorKind.INTEGER_LITERAL TypeKind.INT int -1\n",
      "B \n",
      "D None None No definition No usr\n",
      "A 15 usr: c:@FT@>1#Tpublish#v# publish() publish CursorKind.FUNCTION_TEMPLATE TypeKind.FUNCTIONPROTO void () -1\n",
      "B \n",
      "D t.cpp t.cpp 15 c:@FT@>1#Tpublish#v#\n",
      "A 14 usr: c:t.cpp@205 T T CursorKind.TEMPLATE_TYPE_PARAMETER TypeKind.UNEXPOSED T -1\n",
      "B \n",
      "D publish() publish() 14 c:t.cpp@205\n",
      "A 15 usr:    CursorKind.COMPOUND_STMT TypeKind.INVALID  -1\n",
      "B \n",
      "D publish() None No definition No usr\n",
      "A 15 usr:    CursorKind.NULL_STMT TypeKind.INVALID  -1\n",
      "B \n",
      "D None None No definition No usr\n",
      "A 17 usr: c:@S@Dog Dog Dog CursorKind.CLASS_DECL TypeKind.RECORD Dog -1\n",
      "B \n",
      "D t.cpp t.cpp 17 c:@S@Dog\n",
      "A 18 usr: c:   CursorKind.CXX_ACCESS_SPEC_DECL TypeKind.INVALID  -1\n",
      "B \n",
      "D Dog Dog 18 c:\n",
      "A 19 usr: c:@S@Dog@F@bark#d#&1I# bark(double, const int &) bark CursorKind.CXX_METHOD TypeKind.FUNCTIONPROTO int (double, const int &) -1\n",
      "B \n",
      "D Dog Dog No definition No usr\n",
      "C double\n",
      "C const int &\n",
      "A 19 usr: c:t.cpp@267@S@Dog@F@bark#d#&1I#@volume volume volume CursorKind.PARM_DECL TypeKind.DOUBLE double -1\n",
      "B \n",
      "D bark(double, const int &) bark(double, const int &) 19 c:t.cpp@267@S@Dog@F@bark#d#&1I#@volume\n",
      "A 19 usr: c:t.cpp@282@S@Dog@F@bark#d#&1I#@language language language CursorKind.PARM_DECL TypeKind.LVALUEREFERENCE const int & -1\n",
      "B \n",
      "D bark(double, const int &) bark(double, const int &) 19 c:t.cpp@282@S@Dog@F@bark#d#&1I#@language\n",
      "A 20 usr: c:@S@Dog@F@run#f#1 run(float) run CursorKind.CXX_METHOD TypeKind.FUNCTIONPROTO void (float) const -1\n",
      "B \n",
      "D Dog Dog 20 c:@S@Dog@F@run#f#1\n",
      "C float\n",
      "A 20 usr: c:t.cpp@317@S@Dog@F@run#f#1@speed speed speed CursorKind.PARM_DECL TypeKind.FLOAT float -1\n",
      "B \n",
      "D run(float) run(float) 20 c:t.cpp@317@S@Dog@F@run#f#1@speed\n",
      "A 20 usr:    CursorKind.COMPOUND_STMT TypeKind.INVALID  -1\n",
      "B \n",
      "D run(float) None No definition No usr\n",
      "A 22 usr: c:@S@Cat Cat Cat CursorKind.CLASS_DECL TypeKind.RECORD Cat -1\n",
      "B \n",
      "D t.cpp t.cpp 22 c:@S@Cat\n",
      "A 24 usr: c:@F@main# main() main CursorKind.FUNCTION_DECL TypeKind.FUNCTIONPROTO int () -1\n",
      "B \n",
      "D t.cpp t.cpp 24 c:@F@main#\n",
      "A 24 usr:    CursorKind.COMPOUND_STMT TypeKind.INVALID  -1\n",
      "B \n",
      "D main() None No definition No usr\n",
      "A 25 usr:    CursorKind.DECL_STMT TypeKind.INVALID  -1\n",
      "B \n",
      "D None None No definition No usr\n",
      "A 25 usr: c:t.cpp@376@F@main#@x x x CursorKind.VAR_DECL TypeKind.INT int -1\n",
      "B \n",
      "D main() main() 25 c:t.cpp@376@F@main#@x\n",
      "A 25 usr:  foo foo CursorKind.CALL_EXPR TypeKind.INT int -1\n",
      "B \n",
      "D x None 9 c:@F@foo<#$@S@Dog>#I#\n",
      "C int\n",
      "A 25 usr:  foo foo CursorKind.UNEXPOSED_EXPR TypeKind.POINTER int (*)(int) -1\n",
      "B \n",
      "D None None 9 c:@F@foo<#$@S@Dog>#I#\n",
      "A 25 usr:  foo foo CursorKind.DECL_REF_EXPR TypeKind.FUNCTIONPROTO int (int) -1\n",
      "B \n",
      "D None None 9 c:@F@foo<#$@S@Dog>#I#\n",
      "A 25 usr:  class Dog class Dog CursorKind.TYPE_REF TypeKind.RECORD Dog -1\n",
      "B \n",
      "D None None 17 c:@S@Dog\n",
      "A 25 usr:    CursorKind.INTEGER_LITERAL TypeKind.INT int -1\n",
      "B \n",
      "D None None No definition No usr\n",
      "A 26 usr:    CursorKind.DECL_STMT TypeKind.INVALID  -1\n",
      "B \n",
      "D None None No definition No usr\n",
      "A 26 usr: c:t.cpp@401@F@main#@y y y CursorKind.VAR_DECL TypeKind.INT int -1\n",
      "B \n",
      "D main() main() 26 c:t.cpp@401@F@main#@y\n",
      "A 26 usr:  baz baz CursorKind.CALL_EXPR TypeKind.INT int -1\n",
      "B \n",
      "D y None 12 c:@F@baz<#$@S@Dog#$@S@Cat>#I#\n",
      "C int\n",
      "A 26 usr:  baz baz CursorKind.UNEXPOSED_EXPR TypeKind.POINTER int (*)(int) -1\n",
      "B \n",
      "D None None 12 c:@F@baz<#$@S@Dog#$@S@Cat>#I#\n",
      "A 26 usr:  baz baz CursorKind.DECL_REF_EXPR TypeKind.FUNCTIONPROTO int (int) -1\n",
      "B \n",
      "D None None 12 c:@F@baz<#$@S@Dog#$@S@Cat>#I#\n",
      "A 26 usr:  class Dog class Dog CursorKind.TYPE_REF TypeKind.RECORD Dog -1\n",
      "B \n",
      "D None None 17 c:@S@Dog\n",
      "A 26 usr:  class Cat class Cat CursorKind.TYPE_REF TypeKind.RECORD Cat -1\n",
      "B \n",
      "D None None 22 c:@S@Cat\n",
      "A 26 usr:    CursorKind.INTEGER_LITERAL TypeKind.INT int -1\n",
      "B \n",
      "D None None No definition No usr\n",
      "A 27 usr:  publish publish CursorKind.CALL_EXPR TypeKind.VOID void -1\n",
      "B \n",
      "D None None 15 c:@F@publish<#$@S@Cat>#\n",
      "A 27 usr:  publish publish CursorKind.UNEXPOSED_EXPR TypeKind.POINTER void (*)() -1\n",
      "B \n",
      "D None None 15 c:@F@publish<#$@S@Cat>#\n",
      "A 27 usr:  publish publish CursorKind.DECL_REF_EXPR TypeKind.FUNCTIONPROTO void () -1\n",
      "B \n",
      "D None None 15 c:@F@publish<#$@S@Cat>#\n",
      "A 27 usr:  class Cat class Cat CursorKind.TYPE_REF TypeKind.RECORD Cat -1\n",
      "B \n",
      "D None None 22 c:@S@Cat\n",
      "A 28 usr:  publish publish CursorKind.CALL_EXPR TypeKind.VOID void -1\n",
      "B \n",
      "D None None 15 c:@F@publish<#$@S@Dog>#\n",
      "A 28 usr:  publish publish CursorKind.UNEXPOSED_EXPR TypeKind.POINTER void (*)() -1\n",
      "B \n",
      "D None None 15 c:@F@publish<#$@S@Dog>#\n",
      "A 28 usr:  publish publish CursorKind.DECL_REF_EXPR TypeKind.FUNCTIONPROTO void () -1\n",
      "B \n",
      "D None None 15 c:@F@publish<#$@S@Dog>#\n",
      "A 28 usr:  class Dog class Dog CursorKind.TYPE_REF TypeKind.RECORD Dog -1\n",
      "B \n",
      "D None None 17 c:@S@Dog\n"
     ]
    }
   ],
   "source": [
    "index = clang.cindex.Index.create()\n",
    "\n",
    "# parse the TU\n",
    "tu = clang.cindex.TranslationUnit.from_source('t.cpp', ['-std=c++11'], unsaved_files=[('t.cpp', source)])\n",
    "for x in tu.diagnostics:\n",
    "    print x\n",
    "\n",
    "for c in tu.cursor.walk_preorder():\n",
    "    if True: # is_template(c):\n",
    "        t = c.type\n",
    "        print \"A\", c.location.line, \"usr:\", c.get_usr(), c.displayname, c.spelling, c.kind, t.kind, t.spelling, t.get_num_template_arguments()\n",
    "        print \"B\", t.get_template_argument_type(0).spelling\n",
    "        sp = c.semantic_parent\n",
    "        lp = c.lexical_parent\n",
    "        d = c.get_definition()\n",
    "        print \"D\", sp.displayname if sp else \"None\", lp.displayname if lp else \"None\", d.location.line if d else \"No definition\", d.get_usr() if d else \"No usr\"\n",
    "        for x in c.get_arguments():\n",
    "            print \"C\", x.type.spelling"
   ]
  },
  {
   "cell_type": "code",
   "execution_count": 4,
   "metadata": {},
   "outputs": [],
   "source": [
    "import clang.cindex\n",
    "from clang.cindex import *\n",
    "import cymbal\n",
    "from ctypes import *\n",
    "\n",
    "cymbal.monkeypatch_type('get_template_argument_type',\n",
    "                        'clang_Type_getTemplateArgumentAsType',\n",
    "                        [Type, c_uint],\n",
    "                        Type)\n",
    "\n",
    "cymbal.monkeypatch_type('get_num_template_arguments',\n",
    "                        'clang_Type_getNumTemplateArguments',\n",
    "                        [Type],\n",
    "                        c_int)                \n",
    "        "
   ]
  },
  {
   "cell_type": "code",
   "execution_count": 137,
   "metadata": {},
   "outputs": [],
   "source": [
    "def find_all_published_types(cursor):\n",
    "    types = []\n",
    "    for node in cursor.walk_preorder():\n",
    "        if node.type.kind == TypeKind.FUNCTIONPROTO and node.spelling == \"publish\":\n",
    "            for child in node.get_children():\n",
    "                if child.type.kind == TypeKind.RECORD:\n",
    "                    d = child.get_definition()\n",
    "                    if d.kind in [CursorKind.CLASS_DECL, CursorKind.STRUCT_DECL]:\n",
    "                        types.append(d)\n",
    "    return types"
   ]
  },
  {
   "cell_type": "code",
   "execution_count": 93,
   "metadata": {},
   "outputs": [],
   "source": [
    "def find_definition(cursor, target_type_spelling):\n",
    "    for node in cursor.walk_preorder():\n",
    "        if node.kind == CursorKind.CLASS_DECL and node.type.spelling == target_type_spelling:\n",
    "                return node"
   ]
  },
  {
   "cell_type": "code",
   "execution_count": 128,
   "metadata": {},
   "outputs": [],
   "source": [
    "def describe_methods(definition_cursor):\n",
    "    methods = {}\n",
    "    # TODO: check for class or struct definition\n",
    "    for node in definition_cursor.walk_preorder():\n",
    "        if node.kind == CursorKind.CXX_METHOD:\n",
    "            methods[node.spelling] = {\n",
    "                \"args\": [{\"name\": arg.spelling, \"type\": arg.type.spelling} for arg in node.get_arguments()],\n",
    "                \"return\": node.result_type.spelling,\n",
    "            }\n",
    "    return methods"
   ]
  },
  {
   "cell_type": "code",
   "execution_count": 12,
   "metadata": {},
   "outputs": [],
   "source": [
    "import clang.cindex\n",
    "from clang.cindex import CursorKind, TypeKind\n",
    "\n",
    "def is_call_to_publish(node):\n",
    "    #TODO: WATCH OUT FOR THIS. NEED A MUCH BETTER CHECK.\n",
    "    return node.type.kind == TypeKind.FUNCTIONPROTO and node.spelling == \"publish\"\n",
    "\n",
    "def find_all_published_type_definitions(cursor):\n",
    "    definitions = []\n",
    "    for node in cursor.walk_preorder():\n",
    "        if is_call_to_publish(node):\n",
    "            for child in node.get_children():\n",
    "                if child.type.kind == TypeKind.RECORD:\n",
    "                    d = child.get_definition()\n",
    "                    if d.kind in [CursorKind.CLASS_DECL, CursorKind.STRUCT_DECL]:\n",
    "                        definitions.append(d)\n",
    "    return definitions\n",
    "\n",
    "def describe_methods(definition_cursor):\n",
    "    methods = {}\n",
    "    for node in definition_cursor.walk_preorder():\n",
    "        if node.kind == CursorKind.CXX_METHOD:\n",
    "            methods[node.spelling] = {\n",
    "                \"args\": [{\"name\": arg.spelling, \"type\": arg.type.spelling} for arg in node.get_arguments()],\n",
    "                \"return\": node.result_type.spelling,\n",
    "            }\n",
    "    return methods"
   ]
  },
  {
   "cell_type": "code",
   "execution_count": 13,
   "metadata": {},
   "outputs": [
    {
     "name": "stdout",
     "output_type": "stream",
     "text": [
      "22 Cat\n",
      "22 Cat\n",
      "17 Dog\n",
      "17 Dog\n",
      "{   }\n",
      "{   'bark': {   'args': [   {   'name': 'volume', 'type': 'double'},\n",
      "                            {   'name': 'language', 'type': 'const int &'}],\n",
      "                'return': 'int'},\n",
      "    'run': {   'args': [{   'name': 'speed', 'type': 'float'}], 'return': 'void'}}\n"
     ]
    }
   ],
   "source": [
    "import pprint\n",
    "pp = pprint.PrettyPrinter(indent=4)\n",
    "\n",
    "# parse the TU\n",
    "tu = clang.cindex.TranslationUnit.from_source('t.cpp', ['-std=c++11'], unsaved_files=[('t.cpp', source)])\n",
    "for x in tu.diagnostics:\n",
    "    print x\n",
    "\n",
    "types = find_all_published_type_definitions(tu.cursor)\n",
    "for t in types:\n",
    "    print t.location.line, t.spelling\n",
    "    print t.get_definition().location.line, t.get_definition().spelling\n",
    "\n",
    "for t in types:\n",
    "#     d = find_definition(tu.cursor, t.type.spelling)\n",
    "#     print d.location.line, d.type.spelling\n",
    "    m = describe_methods(t)\n",
    "    pp.pprint(m)"
   ]
  },
  {
   "cell_type": "code",
   "execution_count": 34,
   "metadata": {},
   "outputs": [
    {
     "data": {
      "text/plain": [
       "'Dog, boy, man'"
      ]
     },
     "execution_count": 34,
     "metadata": {},
     "output_type": "execute_result"
    }
   ],
   "source": [
    "\"{name}, {a}, {b}\".format(name=\"Dog\", **{\"a\":\"boy\", \"b\":\"man\", \"c\":\"cow\"})"
   ]
  },
  {
   "cell_type": "code",
   "execution_count": 36,
   "metadata": {},
   "outputs": [
    {
     "name": "stdout",
     "output_type": "stream",
     "text": [
      "\n",
      "    struct DogServiceImpl : public RPCService {\n",
      "        void foo();\n",
      "    };\n",
      "    \n"
     ]
    }
   ],
   "source": [
    "from string import Template\n",
    "\n",
    "def generate_request_method(target):\n",
    "    return \"void foo();\"\n",
    "\n",
    "def generate_service_class(target):\n",
    "    code = Template(\n",
    "    '''\n",
    "    struct ${name}ServiceImpl : public RPCService {\n",
    "        ${request_method}\n",
    "    };\n",
    "    '''\n",
    "    )\n",
    "    return code.substitute(**{\n",
    "        \"name\": target[\"name\"],\n",
    "        \"request_method\": generate_request_method(target)\n",
    "    })\n",
    "\n",
    "target = {\"name\": \"Dog\"}\n",
    "print generate_service_class(target)"
   ]
  },
  {
   "cell_type": "code",
   "execution_count": 27,
   "metadata": {},
   "outputs": [
    {
     "data": {
      "text/plain": [
       "'line 1\\nline 2\\nline 3'"
      ]
     },
     "execution_count": 27,
     "metadata": {},
     "output_type": "execute_result"
    }
   ],
   "source": [
    "'''line {0}\n",
    "line {1}\n",
    "line {2}'''.format(1,2,3)"
   ]
  },
  {
   "cell_type": "code",
   "execution_count": 38,
   "metadata": {},
   "outputs": [
    {
     "data": {
      "text/plain": [
       "'dogcatman'"
      ]
     },
     "execution_count": 38,
     "metadata": {},
     "output_type": "execute_result"
    }
   ],
   "source": [
    "\"\".join([\"dog\",\"cat\",\"man\"])"
   ]
  },
  {
   "cell_type": "code",
   "execution_count": null,
   "metadata": {},
   "outputs": [],
   "source": []
  }
 ],
 "metadata": {
  "kernelspec": {
   "display_name": "Python 2",
   "language": "python",
   "name": "python2"
  },
  "language_info": {
   "codemirror_mode": {
    "name": "ipython",
    "version": 2
   },
   "file_extension": ".py",
   "mimetype": "text/x-python",
   "name": "python",
   "nbconvert_exporter": "python",
   "pygments_lexer": "ipython2",
   "version": "2.7.15rc1"
  }
 },
 "nbformat": 4,
 "nbformat_minor": 2
}
